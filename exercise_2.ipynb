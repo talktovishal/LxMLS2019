{
 "cells": [
  {
   "cell_type": "markdown",
   "metadata": {},
   "source": [
    "### Amazon Sentiment Data"
   ]
  },
  {
   "cell_type": "code",
   "execution_count": 1,
   "metadata": {},
   "outputs": [],
   "source": [
    "%load_ext autoreload\n",
    "%autoreload 2"
   ]
  },
  {
   "cell_type": "code",
   "execution_count": 2,
   "metadata": {},
   "outputs": [],
   "source": [
    "import numpy as np\n",
    "import lxmls.readers.sentiment_reader as srs\n",
    "from lxmls.deep_learning.utils import AmazonData\n",
    "corpus = srs.SentimentCorpus(\"books\")\n",
    "data = AmazonData(corpus=corpus)"
   ]
  },
  {
   "cell_type": "markdown",
   "metadata": {},
   "source": [
    "### Exercise 2.2 Implement Backpropagation for an MLP in Numpy and train it\n",
    "Instantiate the feed-forward model class and optimization parameters. This models follows the architecture described in Algorithm 7."
   ]
  },
  {
   "cell_type": "code",
   "execution_count": 3,
   "metadata": {},
   "outputs": [],
   "source": [
    "# Model\n",
    "geometry = [corpus.nr_features, 20, 2]\n",
    "activation_functions = ['sigmoid', 'softmax']\n",
    "\n",
    "# Optimization\n",
    "learning_rate = 0.05\n",
    "num_epochs = 10\n",
    "batch_size = 30\n",
    "#for testing\n",
    "#batch_size = 1\n"
   ]
  },
  {
   "cell_type": "code",
   "execution_count": 4,
   "metadata": {},
   "outputs": [],
   "source": [
    "from lxmls.deep_learning.numpy_models.mlp import NumpyMLP\n",
    "model = NumpyMLP(\n",
    "    geometry=geometry,\n",
    "    activation_functions=activation_functions,\n",
    "    learning_rate=learning_rate\n",
    ")"
   ]
  },
  {
   "cell_type": "markdown",
   "metadata": {},
   "source": [
    "#### Milestone 1:\n",
    "Open the code for this model. This is located in \n",
    "\n",
    "    lxmls/deep_learning/numpy_models/mlp.py\n",
    "    \n",
    "Implement the method `backpropagation()` in the class `NumpyMLP` using Backpropagation recursion that we just saw.\n",
    "\n",
    "As a first step focus on getting the gradients of each layer, one at a time. Use the code below to plot the loss values for the study weight and perturbed versions. "
   ]
  },
  {
   "cell_type": "code",
   "execution_count": 5,
   "metadata": {},
   "outputs": [],
   "source": [
    "from lxmls.deep_learning.mlp import get_mlp_parameter_handlers, get_mlp_loss_range\n",
    "\n",
    "# Get functions to get and set values of a particular weight of the model\n",
    "get_parameter, set_parameter = get_mlp_parameter_handlers(\n",
    "    layer_index=1,\n",
    "    is_bias=False,\n",
    "    row=0, \n",
    "    column=0\n",
    ")\n",
    "\n",
    "# Get batch of data\n",
    "batch = data.batches('train', batch_size=batch_size)[0]\n",
    "\n",
    "# Get loss and weight value\n",
    "current_loss = model.cross_entropy_loss(batch['input'], batch['output'])\n",
    "current_weight = get_parameter(model.parameters)\n",
    "\n",
    "# Get range of values of the weight and loss around current parameters values\n",
    "weight_range, loss_range = get_mlp_loss_range(model, get_parameter, set_parameter, batch)"
   ]
  },
  {
   "cell_type": "markdown",
   "metadata": {},
   "source": [
    "Once you have implemented at least the gradient of the last layer. You can start checking if the values match"
   ]
  },
  {
   "cell_type": "code",
   "execution_count": 6,
   "metadata": {},
   "outputs": [
    {
     "name": "stdout",
     "output_type": "stream",
     "text": [
      "(20, 13989)\n",
      "(1, 20)\n",
      "(2, 20)\n",
      "(1, 2)\n",
      "------------\n",
      "(20, 13989)\n",
      "(1, 20)\n",
      "(2, 20)\n",
      "(1, 2)\n"
     ]
    }
   ],
   "source": [
    "# Get the gradient value for that weight\n",
    "ref_gradients = model.ref_backpropagation(batch['input'], batch['output'])\n",
    "gradients = model.backpropagation(batch['input'], batch['output'])\n",
    "#check the shapes to ensure i am returning the output in the same size as expected by the overall code.\n",
    "print(gradients[0][0].shape)\n",
    "print(gradients[0][1].shape)\n",
    "print(gradients[1][0].shape)\n",
    "print(gradients[1][1].shape)\n",
    "print('------------')\n",
    "print(ref_gradients[0][0].shape)\n",
    "print(ref_gradients[0][1].shape)\n",
    "print(ref_gradients[1][0].shape)\n",
    "print(ref_gradients[1][1].shape)\n",
    "\n",
    "current_gradient = get_parameter(gradients)\n",
    "ref_current_gradient = get_parameter(ref_gradients)\n"
   ]
  },
  {
   "cell_type": "markdown",
   "metadata": {},
   "source": [
    "Now you can plot the values of the loss around a given parameters value versus the gradient. If you have implemented this correctly the gradient should be tangent to the loss at the current weight value, see Figure 3.5. Once you have completed the exercise, you should be able to plot also the gradients of the other layers. Take into account that the gradients for the first layer will only be non zero for the indices of words present in the batch. You can locate this using."
   ]
  },
  {
   "cell_type": "code",
   "execution_count": 7,
   "metadata": {},
   "outputs": [
    {
     "data": {
      "text/plain": [
       "(array([  0,   1,   2,   3,   4,   5,   6,   7,   8,   9,  10,  11,  12,\n",
       "         13,  14,  15,  16,  17,  18,  19,  20,  21,  22,  23,  24,  25,\n",
       "         26,  27,  28,  29,  30,  31,  32,  33,  34,  35,  36,  37,  38,\n",
       "         39,  40,  41,  42,  43,  44,  45,  46,  47,  48,  49,  50,  51,\n",
       "         52,  53,  54,  55,  56,  57,  58,  59,  60,  61,  62,  63,  64,\n",
       "         65,  66,  67,  68,  69,  70,  71,  72,  73,  74,  75,  76,  77,\n",
       "         78,  79,  80,  81,  82,  83,  84,  85,  86,  87,  88,  89,  90,\n",
       "         91,  92,  93,  94,  95,  96,  97,  98,  99, 100, 101, 102, 103,\n",
       "        104, 105, 106, 107, 108, 109, 110, 111, 112, 113, 114, 115, 116,\n",
       "        117, 118, 119, 120, 121, 122, 123, 124, 125, 126, 127, 128, 129,\n",
       "        130, 131], dtype=int64),)"
      ]
     },
     "execution_count": 7,
     "metadata": {},
     "output_type": "execute_result"
    }
   ],
   "source": [
    "# Use this to know the non-zero values of the input (that have non-zero gradient)\n",
    "batch['input'][0].nonzero()"
   ]
  },
  {
   "cell_type": "markdown",
   "metadata": {},
   "source": [
    "Copy the following code for plotting"
   ]
  },
  {
   "cell_type": "code",
   "execution_count": 8,
   "metadata": {},
   "outputs": [
    {
     "data": {
      "image/png": "[encoded data removed]",
      "text/plain": [
       "<Figure size 432x288 with 1 Axes>"
      ]
     },
     "metadata": {
      "needs_background": "light"
     },
     "output_type": "display_data"
    }
   ],
   "source": [
    "%matplotlib inline\n",
    "import matplotlib.pyplot as plt\n",
    "# Plot empirical\n",
    "plt.plot(weight_range, loss_range)\n",
    "plt.plot(current_weight, current_loss, 'xr')\n",
    "plt.title('My implementation')\n",
    "plt.ylabel('loss value')\n",
    "plt.xlabel('weight value')\n",
    "# Plot real\n",
    "h = plt.plot(\n",
    "    weight_range,\n",
    "    current_gradient*(weight_range - current_weight) + current_loss, \n",
    "    'r--'\n",
    ")\n",
    "plt.show()"
   ]
  },
  {
   "cell_type": "code",
   "execution_count": 9,
   "metadata": {},
   "outputs": [
    {
     "data": {
      "image/png": "[encoded data removed]",
      "text/plain": [
       "<Figure size 432x288 with 1 Axes>"
      ]
     },
     "metadata": {
      "needs_background": "light"
     },
     "output_type": "display_data"
    }
   ],
   "source": [
    "%matplotlib inline\n",
    "import matplotlib.pyplot as plt2\n",
    "# Plot empirical\n",
    "plt2.plot(weight_range, loss_range)\n",
    "plt2.plot(current_weight, current_loss, 'xr')\n",
    "plt2.title('Reference implementation')\n",
    "plt2.ylabel('loss value')\n",
    "plt2.xlabel('weight value')\n",
    "# Plot real\n",
    "h = plt2.plot(\n",
    "    weight_range,\n",
    "    ref_current_gradient*(weight_range - current_weight) + current_loss, \n",
    "    'r--'\n",
    ")\n",
    "plt2.show()"
   ]
  },
  {
   "cell_type": "markdown",
   "metadata": {},
   "source": [
    "#### Milestone 2:\n",
    "After you have ensured that your Backpropagation algorithm is correct, you can train a model with the data we have."
   ]
  },
  {
   "cell_type": "code",
   "execution_count": 10,
   "metadata": {},
   "outputs": [
    {
     "name": "stdout",
     "output_type": "stream",
     "text": [
      "Epoch 1: accuracy 60.25 %\n",
      "Epoch 2: accuracy 67.50 %\n",
      "Epoch 3: accuracy 74.50 %\n",
      "Epoch 4: accuracy 76.25 %\n",
      "Epoch 5: accuracy 78.00 %\n",
      "Epoch 6: accuracy 78.75 %\n",
      "Epoch 7: accuracy 79.00 %\n",
      "Epoch 8: accuracy 79.75 %\n",
      "Epoch 9: accuracy 80.00 %\n",
      "Epoch 10: accuracy 80.25 %\n"
     ]
    }
   ],
   "source": [
    "# Get batch iterators for train and test\n",
    "train_batches = data.batches('train', batch_size=batch_size)\n",
    "test_set = data.batches('test', batch_size=None)[0]\n",
    "\n",
    "# Epoch loop\n",
    "for epoch in range(num_epochs):\n",
    "\n",
    "    # Batch loop\n",
    "    for batch in train_batches:\n",
    "        model.update(input=batch['input'], output=batch['output'])\n",
    "\n",
    "    # Prediction for this epoch\n",
    "    hat_y = model.predict(input=test_set['input'])\n",
    "\n",
    "    # Evaluation\n",
    "    accuracy = 100*np.mean(hat_y == test_set['output'])\n",
    "\n",
    "    # Inform user\n",
    "    print(\"Epoch %d: accuracy %2.2f %%\" % (epoch+1, accuracy))"
   ]
  },
  {
   "cell_type": "code",
   "execution_count": null,
   "metadata": {},
   "outputs": [],
   "source": []
  },
  {
   "cell_type": "code",
   "execution_count": null,
   "metadata": {},
   "outputs": [],
   "source": []
  }
 ],
 "metadata": {
  "anaconda-cloud": {},
  "kernelspec": {
   "display_name": "Python 3",
   "language": "python",
   "name": "python3"
  },
  "language_info": {
   "codemirror_mode": {
    "name": "ipython",
    "version": 3
   },
   "file_extension": ".py",
   "mimetype": "text/x-python",
   "name": "python",
   "nbconvert_exporter": "python",
   "pygments_lexer": "ipython3",
   "version": "3.7.0"
  }
 },
 "nbformat": 4,
 "nbformat_minor": 1
}
